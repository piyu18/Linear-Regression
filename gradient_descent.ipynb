{
  "nbformat": 4,
  "nbformat_minor": 0,
  "metadata": {
    "colab": {
      "name": "gradient_descent.ipynb",
      "provenance": [],
      "authorship_tag": "ABX9TyMs1MrOPNSHLMV+MrQMfIJ1",
      "include_colab_link": true
    },
    "kernelspec": {
      "name": "python3",
      "display_name": "Python 3"
    },
    "language_info": {
      "name": "python"
    }
  },
  "cells": [
    {
      "cell_type": "markdown",
      "metadata": {
        "id": "view-in-github",
        "colab_type": "text"
      },
      "source": [
        "<a href=\"https://colab.research.google.com/github/piyu18/Linear-Regression/blob/main/gradient_descent.ipynb\" target=\"_parent\"><img src=\"https://colab.research.google.com/assets/colab-badge.svg\" alt=\"Open In Colab\"/></a>"
      ]
    },
    {
      "cell_type": "code",
      "execution_count": 1,
      "metadata": {
        "id": "HPvI4tG5IaB-"
      },
      "outputs": [],
      "source": [
        "import numpy as np\n",
        "import matplotlib.pyplot as plt\n",
        "%matplotlib inline"
      ]
    },
    {
      "cell_type": "code",
      "source": [
        "x = np.array([1,2,3,4,5])\n",
        "y = np.array([5,7,9,11,13])"
      ],
      "metadata": {
        "id": "t7ib1wfrIdCX"
      },
      "execution_count": 2,
      "outputs": []
    },
    {
      "cell_type": "code",
      "source": [
        "learning_rate = 0.01\n",
        "iterations=100\n",
        "n = len(x)\n",
        "cost_history = np.zeros(iterations)"
      ],
      "metadata": {
        "id": "cKiNWwljIfg9"
      },
      "execution_count": 3,
      "outputs": []
    },
    {
      "cell_type": "code",
      "source": [
        "def gradient_descent(x,y):\n",
        "    m = b = 0 \n",
        "    for i in range(iterations): \n",
        "      ypred = m * x + b  \n",
        "      dm = (1/n) * sum(x * (ypred - y))  \n",
        "      db = (1/n) * sum(ypred - y)  \n",
        "      m = m - learning_rate * dm  \n",
        "      b = b - learning_rate * db  \n",
        "      cost_history[i] = (1 / (2 * n)) * np.sum(np.square(ypred - y))\n",
        "    return (m, b, cost_history[i])\n",
        "gradient_descent(x,y)"
      ],
      "metadata": {
        "colab": {
          "base_uri": "https://localhost:8080/"
        },
        "id": "lSoSdJXUIiHH",
        "outputId": "bdc00fd3-f05c-4eb2-aae5-12995e91b5fb"
      },
      "execution_count": 4,
      "outputs": [
        {
          "output_type": "execute_result",
          "data": {
            "text/plain": [
              "(2.531285366029526, 1.0818564916350615, 0.33598027898363164)"
            ]
          },
          "metadata": {},
          "execution_count": 4
        }
      ]
    },
    {
      "cell_type": "code",
      "source": [
        "fig,ax = plt.subplots(figsize=(10,6))\n",
        "ax.set_ylabel('Cost')\n",
        "ax.set_xlabel('Iterations')\n",
        "ax.plot(range(iterations),cost_history,'b.')"
      ],
      "metadata": {
        "colab": {
          "base_uri": "https://localhost:8080/",
          "height": 405
        },
        "id": "2NNCbwqQIl_U",
        "outputId": "5f980437-04d0-43a2-8d04-b83381fef87d"
      },
      "execution_count": 5,
      "outputs": [
        {
          "output_type": "execute_result",
          "data": {
            "text/plain": [
              "[<matplotlib.lines.Line2D at 0x7f064afe32d0>]"
            ]
          },
          "metadata": {},
          "execution_count": 5
        },
        {
          "output_type": "display_data",
          "data": {
            "text/plain": [
              "<Figure size 720x432 with 1 Axes>"
            ],
            "image/png": "[encoded data removed]"
          },
          "metadata": {
            "needs_background": "light"
          }
        }
      ]
    },
    {
      "cell_type": "code",
      "source": [
        ""
      ],
      "metadata": {
        "id": "aJlFO7EtIqHs"
      },
      "execution_count": null,
      "outputs": []
    }
  ]
}